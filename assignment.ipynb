{
 "cells": [
  {
   "attachments": {},
   "cell_type": "markdown",
   "metadata": {},
   "source": [
    "* Descriptive statistics of the data\n",
    "* Check the day of the week and which particular day is effective and how much is each day is effective?\n",
    "* Check the monthly effect on the "
   ]
  },
  {
   "cell_type": "code",
   "execution_count": 14,
   "metadata": {},
   "outputs": [],
   "source": [
    "import pandas as pd\n",
    "import numpy as np\n",
    "import statsmodels.api as sm\n",
    "import matplotlib.pyplot as plt\n",
    "import seaborn as sns\n",
    "import warnings\n",
    "import os\n",
    "from pprint import pprint\n",
    "warnings.simplefilter('ignore')\n",
    "\n",
    "file_list = [x for x in os.listdir('./files') if '.xlsx' in x]\n",
    "\n",
    "file_summaries={}\n",
    "for file in file_list:\n",
    "    ongc = pd.read_excel(file)\n",
    "    cols = list(ongc.columns)\n",
    "\n",
    "    #Date\n",
    "    ongc.loc[:,'Date'] = pd.to_datetime(ongc.Date)\n",
    "    ongc = pd.concat([ongc, pd.get_dummies(ongc.Date.dt.day_name())], axis=1)\n",
    "    ongc.drop('Date', axis=1, inplace=True)\n",
    "\n",
    "    #\n",
    "    cols = cols[1:]\n",
    "    inputs = ongc.loc[:, [col for col in ongc.columns if col not in cols]]\n",
    "    days = [col for col in ongc.columns if col not in cols]\n",
    "\n",
    "    summaries = {}\n",
    "\n",
    "    for i in range(len(cols)):\n",
    "        y = cols[i]\n",
    "        print(f'{y} done!')\n",
    "        mod = sm.OLS(ongc.loc[:,y], inputs)\n",
    "        res = mod.fit()\n",
    "        summaries[y] = res.summary()\n",
    "\n",
    "\n",
    "    file_summaries[file] = summaries\n"
   ]
  },
  {
   "cell_type": "code",
   "execution_count": 5,
   "metadata": {},
   "outputs": [
    {
     "data": {
      "text/plain": [
       "['BSE Data for FY 2021-22.xlsx',\n",
       " 'GAIL.NS.xlsx',\n",
       " 'IOC.NS.xlsx',\n",
       " 'NTPC.NS.xlsx',\n",
       " 'ONGC.NS.xlsx']"
      ]
     },
     "execution_count": 5,
     "metadata": {},
     "output_type": "execute_result"
    }
   ],
   "source": [
    "file_list"
   ]
  },
  {
   "cell_type": "code",
   "execution_count": 24,
   "metadata": {},
   "outputs": [
    {
     "data": {
      "text/plain": [
       "'ONGC.NS.xlsx'"
      ]
     },
     "execution_count": 24,
     "metadata": {},
     "output_type": "execute_result"
    }
   ],
   "source": [
    "file_list[4]"
   ]
  },
  {
   "cell_type": "code",
   "execution_count": 25,
   "metadata": {},
   "outputs": [
    {
     "data": {
      "text/html": [
       "<div>\n",
       "<style scoped>\n",
       "    .dataframe tbody tr th:only-of-type {\n",
       "        vertical-align: middle;\n",
       "    }\n",
       "\n",
       "    .dataframe tbody tr th {\n",
       "        vertical-align: top;\n",
       "    }\n",
       "\n",
       "    .dataframe thead th {\n",
       "        text-align: right;\n",
       "    }\n",
       "</style>\n",
       "<table border=\"1\" class=\"dataframe\">\n",
       "  <thead>\n",
       "    <tr style=\"text-align: right;\">\n",
       "      <th></th>\n",
       "      <th>Open</th>\n",
       "      <th>High</th>\n",
       "      <th>Low</th>\n",
       "      <th>Close</th>\n",
       "      <th>Adj Close</th>\n",
       "      <th>Volume</th>\n",
       "    </tr>\n",
       "  </thead>\n",
       "  <tbody>\n",
       "    <tr>\n",
       "      <th>count</th>\n",
       "      <td>247.000000</td>\n",
       "      <td>247.000000</td>\n",
       "      <td>247.000000</td>\n",
       "      <td>247.000000</td>\n",
       "      <td>247.000000</td>\n",
       "      <td>2.470000e+02</td>\n",
       "    </tr>\n",
       "    <tr>\n",
       "      <th>mean</th>\n",
       "      <td>137.828543</td>\n",
       "      <td>139.968421</td>\n",
       "      <td>135.774089</td>\n",
       "      <td>137.724696</td>\n",
       "      <td>123.644884</td>\n",
       "      <td>2.305534e+07</td>\n",
       "    </tr>\n",
       "    <tr>\n",
       "      <th>std</th>\n",
       "      <td>23.327366</td>\n",
       "      <td>23.786220</td>\n",
       "      <td>22.595046</td>\n",
       "      <td>23.025432</td>\n",
       "      <td>23.283172</td>\n",
       "      <td>1.838539e+07</td>\n",
       "    </tr>\n",
       "    <tr>\n",
       "      <th>min</th>\n",
       "      <td>98.050003</td>\n",
       "      <td>102.250000</td>\n",
       "      <td>97.449997</td>\n",
       "      <td>98.050003</td>\n",
       "      <td>85.697487</td>\n",
       "      <td>1.114216e+06</td>\n",
       "    </tr>\n",
       "    <tr>\n",
       "      <th>25%</th>\n",
       "      <td>116.150002</td>\n",
       "      <td>118.049999</td>\n",
       "      <td>114.899997</td>\n",
       "      <td>116.825001</td>\n",
       "      <td>102.107170</td>\n",
       "      <td>1.224090e+07</td>\n",
       "    </tr>\n",
       "    <tr>\n",
       "      <th>50%</th>\n",
       "      <td>138.050003</td>\n",
       "      <td>139.899994</td>\n",
       "      <td>136.000000</td>\n",
       "      <td>137.750000</td>\n",
       "      <td>125.927299</td>\n",
       "      <td>1.812462e+07</td>\n",
       "    </tr>\n",
       "    <tr>\n",
       "      <th>75%</th>\n",
       "      <td>160.625000</td>\n",
       "      <td>162.674995</td>\n",
       "      <td>156.900002</td>\n",
       "      <td>159.750000</td>\n",
       "      <td>143.586983</td>\n",
       "      <td>2.688440e+07</td>\n",
       "    </tr>\n",
       "    <tr>\n",
       "      <th>max</th>\n",
       "      <td>190.000000</td>\n",
       "      <td>194.949997</td>\n",
       "      <td>177.800003</td>\n",
       "      <td>186.949997</td>\n",
       "      <td>173.904022</td>\n",
       "      <td>1.325382e+08</td>\n",
       "    </tr>\n",
       "  </tbody>\n",
       "</table>\n",
       "</div>"
      ],
      "text/plain": [
       "             Open        High         Low       Close   Adj Close  \\\n",
       "count  247.000000  247.000000  247.000000  247.000000  247.000000   \n",
       "mean   137.828543  139.968421  135.774089  137.724696  123.644884   \n",
       "std     23.327366   23.786220   22.595046   23.025432   23.283172   \n",
       "min     98.050003  102.250000   97.449997   98.050003   85.697487   \n",
       "25%    116.150002  118.049999  114.899997  116.825001  102.107170   \n",
       "50%    138.050003  139.899994  136.000000  137.750000  125.927299   \n",
       "75%    160.625000  162.674995  156.900002  159.750000  143.586983   \n",
       "max    190.000000  194.949997  177.800003  186.949997  173.904022   \n",
       "\n",
       "             Volume  \n",
       "count  2.470000e+02  \n",
       "mean   2.305534e+07  \n",
       "std    1.838539e+07  \n",
       "min    1.114216e+06  \n",
       "25%    1.224090e+07  \n",
       "50%    1.812462e+07  \n",
       "75%    2.688440e+07  \n",
       "max    1.325382e+08  "
      ]
     },
     "execution_count": 25,
     "metadata": {},
     "output_type": "execute_result"
    }
   ],
   "source": [
    "file_summaries[file_list[4]]"
   ]
  },
  {
   "cell_type": "code",
   "execution_count": null,
   "metadata": {},
   "outputs": [],
   "source": []
  }
 ],
 "metadata": {
  "kernelspec": {
   "display_name": "data",
   "language": "python",
   "name": "python3"
  },
  "language_info": {
   "codemirror_mode": {
    "name": "ipython",
    "version": 3
   },
   "file_extension": ".py",
   "mimetype": "text/x-python",
   "name": "python",
   "nbconvert_exporter": "python",
   "pygments_lexer": "ipython3",
   "version": "3.9.16"
  },
  "orig_nbformat": 4,
  "vscode": {
   "interpreter": {
    "hash": "dbb8308ed922c131e65abe7650918fea70bfcd7f444300bae7ac0ebf7b0041a3"
   }
  }
 },
 "nbformat": 4,
 "nbformat_minor": 2
}
